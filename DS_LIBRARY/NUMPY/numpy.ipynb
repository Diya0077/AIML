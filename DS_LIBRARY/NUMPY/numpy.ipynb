{
 "cells": [
  {
   "cell_type": "code",
   "execution_count": 1,
   "id": "c270b4fe-7eda-4510-afdd-71ba53be3524",
   "metadata": {},
   "outputs": [],
   "source": [
    "import numpy as np"
   ]
  },
  {
   "cell_type": "code",
   "execution_count": 2,
   "id": "070a827e-d263-4be8-964b-14afbdb9502e",
   "metadata": {},
   "outputs": [
    {
     "name": "stdout",
     "output_type": "stream",
     "text": [
      "Hello World\n"
     ]
    }
   ],
   "source": [
    "print(\"Hello World\")"
   ]
  },
  {
   "cell_type": "code",
   "execution_count": 3,
   "id": "add91556-b1af-424b-a294-51ffc401341d",
   "metadata": {},
   "outputs": [],
   "source": [
    "a = np.arange(15).reshape(3, 5)"
   ]
  },
  {
   "cell_type": "code",
   "execution_count": 4,
   "id": "52fa0bd0-de3f-4487-970c-fddd64be1ad7",
   "metadata": {},
   "outputs": [
    {
     "data": {
      "text/plain": [
       "array([[ 0,  1,  2,  3,  4],\n",
       "       [ 5,  6,  7,  8,  9],\n",
       "       [10, 11, 12, 13, 14]])"
      ]
     },
     "execution_count": 4,
     "metadata": {},
     "output_type": "execute_result"
    }
   ],
   "source": [
    "a"
   ]
  },
  {
   "cell_type": "code",
   "execution_count": 5,
   "id": "d0abdfd4-975b-4e6f-9cde-326412c25f04",
   "metadata": {},
   "outputs": [
    {
     "data": {
      "text/plain": [
       "(3, 5)"
      ]
     },
     "execution_count": 5,
     "metadata": {},
     "output_type": "execute_result"
    }
   ],
   "source": [
    "a.shape"
   ]
  },
  {
   "cell_type": "code",
   "execution_count": 6,
   "id": "b2c6cbb7-ee24-47fa-802c-bdb7e2aa22cb",
   "metadata": {},
   "outputs": [
    {
     "data": {
      "text/plain": [
       "15"
      ]
     },
     "execution_count": 6,
     "metadata": {},
     "output_type": "execute_result"
    }
   ],
   "source": [
    "a.size"
   ]
  },
  {
   "cell_type": "code",
   "execution_count": 7,
   "id": "85157cd6-5bf4-42b6-92d4-9bdb27deac16",
   "metadata": {},
   "outputs": [
    {
     "data": {
      "text/plain": [
       "2"
      ]
     },
     "execution_count": 7,
     "metadata": {},
     "output_type": "execute_result"
    }
   ],
   "source": [
    "a.ndim"
   ]
  },
  {
   "cell_type": "code",
   "execution_count": 8,
   "id": "4f2f559a-6dc7-4c9c-8e5d-d31609681831",
   "metadata": {},
   "outputs": [
    {
     "data": {
      "text/plain": [
       "dtype('int64')"
      ]
     },
     "execution_count": 8,
     "metadata": {},
     "output_type": "execute_result"
    }
   ],
   "source": [
    "a.dtype"
   ]
  },
  {
   "cell_type": "code",
   "execution_count": 10,
   "id": "b156eebf-979b-4f76-a1e8-2d400927088a",
   "metadata": {},
   "outputs": [
    {
     "data": {
      "text/plain": [
       "array([[0., 0., 0., 0.],\n",
       "       [0., 0., 0., 0.],\n",
       "       [0., 0., 0., 0.]])"
      ]
     },
     "execution_count": 10,
     "metadata": {},
     "output_type": "execute_result"
    }
   ],
   "source": [
    "np.zeros((3,4))"
   ]
  },
  {
   "cell_type": "code",
   "execution_count": 11,
   "id": "d8d0aad7-b004-4a1d-ad46-01a04998de54",
   "metadata": {},
   "outputs": [
    {
     "data": {
      "text/plain": [
       "array([10, 15, 20, 25])"
      ]
     },
     "execution_count": 11,
     "metadata": {},
     "output_type": "execute_result"
    }
   ],
   "source": [
    "np.arange(10, 30, 5)"
   ]
  },
  {
   "cell_type": "code",
   "execution_count": 13,
   "id": "108297b1-9db8-4775-9a38-1046ad5887ad",
   "metadata": {},
   "outputs": [],
   "source": [
    "b = np.arange(6)"
   ]
  },
  {
   "cell_type": "code",
   "execution_count": 14,
   "id": "22915830-3edb-4505-aa7c-a00ad5d28461",
   "metadata": {},
   "outputs": [
    {
     "name": "stdout",
     "output_type": "stream",
     "text": [
      "[0 1 2 3 4 5]\n"
     ]
    }
   ],
   "source": [
    "print(b)"
   ]
  },
  {
   "cell_type": "code",
   "execution_count": 16,
   "id": "c3579a1d-6fba-48b7-8fc3-735235ec32d8",
   "metadata": {},
   "outputs": [
    {
     "name": "stdout",
     "output_type": "stream",
     "text": [
      "0\n",
      "1\n",
      "2\n",
      "3\n",
      "4\n",
      "5\n"
     ]
    }
   ],
   "source": [
    "for row in b:\n",
    "    print(row)\n"
   ]
  },
  {
   "cell_type": "code",
   "execution_count": 18,
   "id": "4cc26c7d-c97b-466a-bac3-dd6cd9945c4f",
   "metadata": {},
   "outputs": [],
   "source": [
    "a.resize((3,5))"
   ]
  },
  {
   "cell_type": "code",
   "execution_count": 19,
   "id": "0bd4e18b-d14a-4ea2-b7d3-88687c8a6b79",
   "metadata": {},
   "outputs": [
    {
     "data": {
      "text/plain": [
       "array([[ 0,  1,  2,  3,  4],\n",
       "       [ 5,  6,  7,  8,  9],\n",
       "       [10, 11, 12, 13, 14]])"
      ]
     },
     "execution_count": 19,
     "metadata": {},
     "output_type": "execute_result"
    }
   ],
   "source": [
    "a"
   ]
  },
  {
   "cell_type": "code",
   "execution_count": 20,
   "id": "78b83c89-b070-46a7-8f56-e17cdf798038",
   "metadata": {},
   "outputs": [
    {
     "data": {
      "text/plain": [
       "array([[ 0,  1,  2,  3,  4],\n",
       "       [ 5,  6,  7,  8,  9],\n",
       "       [10, 11, 12, 13, 14]])"
      ]
     },
     "execution_count": 20,
     "metadata": {},
     "output_type": "execute_result"
    }
   ],
   "source": [
    "a.reshape(3, -1)"
   ]
  },
  {
   "cell_type": "code",
   "execution_count": 23,
   "id": "1f311bd5-7ea9-46e8-add3-728f25d76d11",
   "metadata": {},
   "outputs": [],
   "source": [
    "rg = np.random.default_rng()"
   ]
  },
  {
   "cell_type": "code",
   "execution_count": 24,
   "id": "2bb8a51d-4d06-4d20-8247-7161beb687bd",
   "metadata": {},
   "outputs": [],
   "source": [
    "c = np.floor(10 * rg.random((2, 2)))"
   ]
  },
  {
   "cell_type": "code",
   "execution_count": 25,
   "id": "3fd1f3c1-b704-4fdb-b08a-b08b59ecb178",
   "metadata": {},
   "outputs": [
    {
     "name": "stdout",
     "output_type": "stream",
     "text": [
      "[[4. 8.]\n",
      " [7. 3.]]\n"
     ]
    }
   ],
   "source": [
    "print(c)"
   ]
  },
  {
   "cell_type": "code",
   "execution_count": 26,
   "id": "c0b0df64-d52e-43b8-b090-c540660c2dd0",
   "metadata": {},
   "outputs": [
    {
     "name": "stdout",
     "output_type": "stream",
     "text": [
      "8000\n"
     ]
    }
   ],
   "source": [
    "arr = np.arange(1000)\n",
    "print(arr.size*arr.itemsize)"
   ]
  },
  {
   "cell_type": "code",
   "execution_count": 31,
   "id": "53a05e49-4175-4df5-874b-9abd7368cabf",
   "metadata": {},
   "outputs": [
    {
     "name": "stdout",
     "output_type": "stream",
     "text": [
      "1D Array: [1 2 3 4 5] \n",
      "\n",
      "2D Array:\n",
      " [[1 2 3]\n",
      " [4 5 6]] \n",
      "\n"
     ]
    }
   ],
   "source": [
    "arr1 = np.array([1, 2, 3, 4, 5])\n",
    "print(\"1D Array:\", arr1,\"\\n\")\n",
    "arr2 = np.array([[1, 2, 3], [4, 5, 6]])\n",
    "print(\"2D Array:\\n\", arr2,\"\\n\")\n",
    "\n"
   ]
  },
  {
   "cell_type": "code",
   "execution_count": 32,
   "id": "09bef5bb-f103-4faf-bf5c-f7808e85e8ae",
   "metadata": {},
   "outputs": [
    {
     "name": "stdout",
     "output_type": "stream",
     "text": [
      "NumPy linspace: [ 1.    3.25  5.5   7.75 10.  ]\n"
     ]
    }
   ],
   "source": [
    "arr_linspace = np.linspace(1, 10, 5)\n",
    "print(\"NumPy linspace:\", arr_linspace)"
   ]
  },
  {
   "cell_type": "code",
   "execution_count": 34,
   "id": "61aa310b-18fb-44f8-ad6d-699197fda115",
   "metadata": {},
   "outputs": [
    {
     "name": "stdout",
     "output_type": "stream",
     "text": [
      "Reshaped Array:\n",
      " [[0 1 2]\n",
      " [3 4 5]\n",
      " [6 7 8]]\n"
     ]
    }
   ],
   "source": [
    "arr_range = np.arange(9)\n",
    "arr_reshaped = arr_range.reshape(3, 3)\n",
    "print(\"Reshaped Array:\\n\", arr_reshaped)"
   ]
  },
  {
   "cell_type": "code",
   "execution_count": 35,
   "id": "44aabd95-2559-4711-a3f9-956b2d53fdac",
   "metadata": {},
   "outputs": [
    {
     "name": "stdout",
     "output_type": "stream",
     "text": [
      "Flattened Array: [0 1 2 3 4 5 6 7 8]\n"
     ]
    }
   ],
   "source": [
    "arr_flattened = arr_reshaped.ravel()\n",
    "print(\"Flattened Array:\", arr_flattened)"
   ]
  },
  {
   "cell_type": "code",
   "execution_count": 36,
   "id": "d6c00e27-0e8d-4b15-aa88-9c5cdc342d4b",
   "metadata": {},
   "outputs": [
    {
     "name": "stdout",
     "output_type": "stream",
     "text": [
      "Square root of elements:\n",
      " [0.         1.         1.41421356 1.73205081 2.         2.23606798\n",
      " 2.44948974 2.64575131 2.82842712]\n"
     ]
    }
   ],
   "source": [
    "arr_sqrt = np.sqrt(arr_range)\n",
    "print(\"Square root of elements:\\n\", arr_sqrt)"
   ]
  },
  {
   "cell_type": "code",
   "execution_count": 37,
   "id": "92ae71c8-bb9a-448e-9814-22e782af11e1",
   "metadata": {},
   "outputs": [
    {
     "name": "stdout",
     "output_type": "stream",
     "text": [
      "Matrix Product:\n",
      " [[19 22]\n",
      " [43 50]] \n",
      "\n",
      "\n"
     ]
    }
   ],
   "source": [
    "# Creating two matrices\n",
    "matrix1 = np.array([[1, 2], [3, 4]])\n",
    "matrix2 = np.array([[5, 6], [7, 8]])\n",
    "\n",
    "# Performing matrix multiplication (dot product)\n",
    "matrix_product = np.dot(matrix1, matrix2)\n",
    "print(\"Matrix Product:\\n\", matrix_product,\"\\n\\n\")"
   ]
  },
  {
   "cell_type": "code",
   "execution_count": 38,
   "id": "c429ca80-567b-4abe-93f6-70c1b69282f1",
   "metadata": {},
   "outputs": [
    {
     "name": "stdout",
     "output_type": "stream",
     "text": [
      "[6 7 8]\n",
      "[1 2 3]\n",
      "[9 3 2]\n"
     ]
    }
   ],
   "source": [
    "arr = np.array([[6,7,8],[1,2,3],[9,3,2]])\n",
    "for row in arr:\n",
    "    print(row)"
   ]
  },
  {
   "cell_type": "code",
   "execution_count": 39,
   "id": "e29989a4-d76d-4d17-93b9-de3193dc0cf8",
   "metadata": {},
   "outputs": [
    {
     "data": {
      "text/plain": [
       "array([[ 0,  1,  2,  3],\n",
       "       [ 4,  5,  6,  7],\n",
       "       [ 8,  9, 10, 11]])"
      ]
     },
     "execution_count": 39,
     "metadata": {},
     "output_type": "execute_result"
    }
   ],
   "source": [
    "a = np.arange(12).reshape(3,4)\n",
    "a"
   ]
  },
  {
   "cell_type": "code",
   "execution_count": 40,
   "id": "9cd16346-90e1-4234-9184-1017e3aacaf2",
   "metadata": {},
   "outputs": [
    {
     "name": "stdout",
     "output_type": "stream",
     "text": [
      "0\n",
      "1\n",
      "2\n",
      "3\n",
      "4\n",
      "5\n",
      "6\n",
      "7\n",
      "8\n",
      "9\n",
      "10\n",
      "11\n"
     ]
    }
   ],
   "source": [
    "for row in a:\n",
    "    for cell in row:\n",
    "        print(cell)"
   ]
  },
  {
   "cell_type": "code",
   "execution_count": null,
   "id": "810b1fe4-1af8-4365-909c-beb3d4d9734e",
   "metadata": {},
   "outputs": [],
   "source": []
  }
 ],
 "metadata": {
  "kernelspec": {
   "display_name": "Python 3 (ipykernel)",
   "language": "python",
   "name": "python3"
  },
  "language_info": {
   "codemirror_mode": {
    "name": "ipython",
    "version": 3
   },
   "file_extension": ".py",
   "mimetype": "text/x-python",
   "name": "python",
   "nbconvert_exporter": "python",
   "pygments_lexer": "ipython3",
   "version": "3.13.1"
  }
 },
 "nbformat": 4,
 "nbformat_minor": 5
}
